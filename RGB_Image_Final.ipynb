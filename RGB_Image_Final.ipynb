{
 "cells": [
  {
   "cell_type": "markdown",
   "metadata": {},
   "source": [
    "# Band A Vectors over the RGB Image created using CO Map from Alma data and H2 Map data from Bally et al."
   ]
  },
  {
   "cell_type": "markdown",
   "metadata": {},
   "source": [
    "#### Making rgb cube using aplpy"
   ]
  },
  {
   "cell_type": "code",
   "execution_count": null,
   "metadata": {
    "collapsed": true
   },
   "outputs": [],
   "source": [
    "import aplpy as ap\n",
    "ap.make_rgb_cube(['max_high_V.fits',\n",
    "                  'OrionH2_NICFPS_cropped.fits',\n",
    "                  'OrionH2_NICFPS_cropped.fits'], 'CO_H2_Fe1.fits')"
   ]
  },
  {
   "cell_type": "markdown",
   "metadata": {},
   "source": [
    "#### Making rgb image using the rgb cube and stretching it the blue and green to log scale"
   ]
  },
  {
   "cell_type": "code",
   "execution_count": null,
   "metadata": {
    "collapsed": true
   },
   "outputs": [],
   "source": [
    "ap.make_rgb_image('CO_H2_Fe1.fits', 'CO_H2_Fe1.png',\n",
    "                  stretch_b = 'log', stretch_g = 'log'\n",
    "                  ,vmin_b=100, vmax_b=20000.0\n",
    "                  ,vmin_g = 100, vmax_g=20000.0)"
   ]
  },
  {
   "cell_type": "markdown",
   "metadata": {},
   "source": [
    "#### Importing all the necessary modules"
   ]
  },
  {
   "cell_type": "code",
   "execution_count": null,
   "metadata": {
    "collapsed": true
   },
   "outputs": [],
   "source": [
    "import aplpy as ap\n",
    "import matplotlib.pyplot as plt\n",
    "from astropy.io import fits\n",
    "from astropy import wcs\n",
    "import matplotlib.image as mpimg\n",
    "import numpy as np\n",
    "from astropy.coordinates import SkyCoord\n",
    "import matplotlib.colors"
   ]
  },
  {
   "cell_type": "markdown",
   "metadata": {},
   "source": [
    "#### Importing Band A file and 2d fits file made by aplpy to project as the map with common resolution for all three files"
   ]
  },
  {
   "cell_type": "code",
   "execution_count": null,
   "metadata": {
    "collapsed": true
   },
   "outputs": [],
   "source": [
    "file1 = 'CO_H2_Fe1_2d.fits'\n",
    "bandA = 'F0454_HA_POL_unk3_HAWAHWPA_PMP_013-145.fits'\n",
    "\n",
    "#read in image\n",
    "fits_file1 = fits.open(file1)\n",
    "data1=fits_file1[0].data\n",
    "w1=wcs.WCS(fits_file1[0].header) #wcs information\n",
    "\n",
    "# read the band A file\n",
    "polfile=fits.open(bandA)\n",
    "wa=wcs.WCS(polfile[0].header)\n",
    "xpix=polfile[0].header['NAXIS1']\n",
    "ypix=polfile[0].header['NAXIS2']\n",
    "polfile[0].header['CDELT2']"
   ]
  },
  {
   "cell_type": "markdown",
   "metadata": {},
   "source": [
    "#### Making the figure, setting up coordinates, and showing the rgb image"
   ]
  },
  {
   "cell_type": "code",
   "execution_count": null,
   "metadata": {
    "collapsed": true
   },
   "outputs": [],
   "source": [
    "plt.figure(figsize=(8,8))\n",
    "ax=plt.axes(projection=w1)\n",
    "ra=ax.coords[0]\n",
    "dec=ax.coords[1]\n",
    "ra.display_minor_ticks(True)\n",
    "dec.display_minor_ticks(True)\n",
    "ra.set_major_formatter('hh:mm:ss.s')\n",
    "\n",
    "# reading the rgb image file and showing it in the axes\n",
    "image = mpimg.imread(\"CO_H2_Fe1.png\")\n",
    "ax.imshow(np.flipud(image))#, origin='lower')"
   ]
  },
  {
   "cell_type": "markdown",
   "metadata": {},
   "source": [
    "#### Extracting polangle and polarization information from Band A file for plotting vectors"
   ]
  },
  {
   "cell_type": "code",
   "execution_count": null,
   "metadata": {
    "collapsed": true
   },
   "outputs": [],
   "source": [
    "skip=2\n",
    "#set polarizations and angles to nan if zero\n",
    "pol, pol_err, ang = polfile['PERCENT POL'].data, polfile['ERROR PERCENT POL'].data, polfile['POL ANGLE'].data\n",
    "pol[pol == 0.] = np.nan\n",
    "ang[pol == 0.] = np.nan\n",
    "\n",
    "#set low sn values to nan\n",
    "pol[pol/pol_err<3]=np.nan\n",
    "pol[21,21] = 10.\n",
    "ang[20,20] = 0.\n",
    "aa = pol[~np.isnan(pol)]\n",
    "aa[aa > 0]\n",
    "x, y = np.meshgrid(np.arange(pol.shape[1]), np.arange(pol.shape[0]))\n",
    "\n",
    "# mask to check the number of vectors being plotted\n",
    "mask=np.where((x%skip+y%skip)==0)\n",
    "pol=pol[mask]\n",
    "ang=ang[mask]\n",
    "x=x[mask]\n",
    "y=y[mask]\n",
    "ra, dec = wa.wcs_pix2world(x, y, 0)\n",
    "x1,y1=w1.wcs_world2pix(ra,dec,0)\n",
    "\n",
    "#Coords required for quiver\n",
    "xx = pol*np.cos(ang*np.pi/180.)\n",
    "yy = pol*np.sin(ang*np.pi/180.)\n",
    "\n",
    "# setting the coordinated of the axes and limiting them\n",
    "lowerleft= SkyCoord(\"5h35m20.865s -5d23m37s\")\n",
    "upperright=SkyCoord(\"5h35m8.27s -5d20m7.94s\")\n",
    "lx,ly=w1.wcs_world2pix(lowerleft.ra.deg,lowerleft.dec.deg,0)\n",
    "ux,uy=w1.wcs_world2pix(upperright.ra.deg,upperright.dec.deg,0)\n",
    "ax.set_xlim(lx,ux)\n",
    "ax.set_ylim(ly,uy)"
   ]
  },
  {
   "cell_type": "markdown",
   "metadata": {},
   "source": [
    "#### Making the vectors black and white based on the intensity of background"
   ]
  },
  {
   "cell_type": "code",
   "execution_count": null,
   "metadata": {
    "collapsed": true
   },
   "outputs": [],
   "source": [
    "list_color = []\n",
    "for i in range(len(x1)):\n",
    "    try:\n",
    "        if data1[int(y1[i]), int(x1[i])] > 1600: \n",
    "            list_color.append('k')\n",
    "        else:\n",
    "            list_color.append('w')\n",
    "    except Exception as e:\n",
    "        list_color.append('k')  "
   ]
  },
  {
   "cell_type": "markdown",
   "metadata": {},
   "source": [
    "#### Plotting the vectors"
   ]
  },
  {
   "cell_type": "code",
   "execution_count": null,
   "metadata": {
    "collapsed": true
   },
   "outputs": [],
   "source": [
    "ax.quiver(x1,y1,xx,yy,angles='xy', pivot='middle',\n",
    "          headwidth=1,headlength=0,headaxislength=0,\n",
    "          linewidths=0.5,scale_units='width',width=0.001,scale=500., color=list_color)\n",
    "          \n",
    "# saving the fig in high resolution\n",
    "plt.savefig('CO_H2_Fe_vec_plotted_black_white.png', dpi=360)"
   ]
  }
 ],
 "metadata": {
  "kernelspec": {
   "display_name": "Python 3",
   "language": "python",
   "name": "python3"
  },
  "language_info": {
   "codemirror_mode": {
    "name": "ipython",
    "version": 3
   },
   "file_extension": ".py",
   "mimetype": "text/x-python",
   "name": "python",
   "nbconvert_exporter": "python",
   "pygments_lexer": "ipython3",
   "version": "3.6.4"
  }
 },
 "nbformat": 4,
 "nbformat_minor": 2
}
